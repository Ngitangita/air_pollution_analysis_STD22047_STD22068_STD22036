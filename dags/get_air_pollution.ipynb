{
 "cells": [
  {
   "cell_type": "markdown",
   "metadata": {},
   "source": [
    ". Fusion et Traitement des Données Démographiques et Géographiques pour Analyse"
   ]
  },
  {
   "cell_type": "code",
   "execution_count": null,
   "metadata": {},
   "outputs": [],
   "source": [
    "import pandas as pd\n",
    "\n",
    "# Définir la fonction pour traiter les données\n",
    "def store_data(demographic_data, geographic_data):\n",
    "    # Fusionner les données sur la colonne 'Location'\n",
    "    merged_data = pd.merge(demographic_data, geographic_data, on='Location')\n",
    "    # Afficher les données fusionnées\n",
    "    return merged_data\n",
    "\n",
    "# Lire les fichiers CSV\n",
    "demographic_data = pd.read_csv('demographic_data.csv')\n",
    "geographic_data = pd.read_csv('geographic_data.csv')\n",
    "\n",
    "# Appeler la fonction avec les deux DataFrames\n",
    "store_data(demographic_data, geographic_data)\n"
   ]
  },
  {
   "cell_type": "markdown",
   "metadata": {},
   "source": [
    "Automatisation de la Récupération des Données de Pollution Atmosphérique à Partir de Coordonnées Géographiques"
   ]
  },
  {
   "cell_type": "code",
   "execution_count": null,
   "metadata": {},
   "outputs": [],
   "source": [
    "import requests\n",
    "import json\n",
    "import pandas as pd\n",
    "import os\n",
    "\n",
    "# Lire les fichiers CSV\n",
    "demographic_data = pd.read_csv('demographic_data.csv')\n",
    "geographic_data = pd.read_csv('geographic_data.csv')\n",
    "\n",
    "# ajout manuel des colonnes Latitude et Longitude dans geographic_data.csv\n",
    "# (Idéalement, ces données devraient être obtenues d'une source fiable ou ajoutées manuellement)\n",
    "\n",
    "# Fusionner les deux jeux de données sur la colonne 'Location' pour obtenir toutes les informations en un seul DataFrame\n",
    "merged_data = pd.merge(demographic_data, geographic_data, on='Location')\n",
    "\n",
    "# Créer un dictionnaire de coordonnées à partir des données fusionnées\n",
    "coordinates = {}\n",
    "for index, row in merged_data.iterrows():\n",
    "    city = row['Location']\n",
    "    lat = row['Latitude']\n",
    "    lon = row['Longitude']\n",
    "    coordinates[city] = (lat, lon)\n",
    "\n",
    "# Récupérer la clé API depuis les variables d'environnement\n",
    "API_KEY = os.getenv('OPENWEATHER_API_KEY')\n",
    "BASE_URL = 'http://api.openweathermap.org/data/2.5/air_pollution'\n",
    "\n",
    "def get_air_pollution_data(lat, lon):\n",
    "    url = f\"{BASE_URL}?lat={lat}&lon={lon}&appid={API_KEY}\"\n",
    "    response = requests.get(url)\n",
    "    if response.status_code == 200:\n",
    "        return response.json()\n",
    "    else:\n",
    "        print(f\"Error: {response.status_code}\")\n",
    "        return None\n",
    "\n",
    "# Récupération des données de pollution pour chaque ville\n",
    "for city, (lat, lon) in coordinates.items():\n",
    "    print(f\"Récupération des données pour {city}...\")\n",
    "    data = get_air_pollution_data(lat, lon)\n",
    "    print(json.dumps(data, indent=2))\n"
   ]
  },
  {
   "cell_type": "markdown",
   "metadata": {},
   "source": [
    "Enrichissement des Données Géographiques avec les Indices AQI et Composants de Pollution Atmosphérique"
   ]
  },
  {
   "cell_type": "code",
   "execution_count": null,
   "metadata": {},
   "outputs": [],
   "source": [
    "import requests\n",
    "import json\n",
    "import pandas as pd\n",
    "from datetime import datetime\n",
    "\n",
    "# Supposons que 'Latitude' et 'Longitude' sont les noms corrects des colonnes\n",
    "def get_pollution_aqi_data(row, API_KEY):\n",
    "    lat = row['Latitude']\n",
    "    lon = row['Longitude']\n",
    "    url = f'http://api.openweathermap.org/data/2.5/air_pollution?lat={lat}&lon={lon}&appid={API_KEY}'\n",
    "    response = requests.get(url)\n",
    "    data = response.json()\n",
    "    return data['list'][0]['main']['aqi']\n",
    "\n",
    "def get_pollution_components_data(row, API_KEY):\n",
    "    lat = row['Latitude']\n",
    "    lon = row['Longitude']\n",
    "    url = f'http://api.openweathermap.org/data/2.5/air_pollution?lat={lat}&lon={lon}&appid={API_KEY}'\n",
    "    response = requests.get(url)\n",
    "    data = response.json()\n",
    "    return data['list'][0]['components']\n",
    "\n",
    "# Ajout des données de pollution de l'air dans le DataFrame\n",
    "merged_data['AQI Pollution'] = merged_data.apply(lambda row: get_pollution_aqi_data(row, API_KEY), axis=1)\n",
    "\n",
    "# Récupérer les composants de la pollution\n",
    "components_df = merged_data.apply(lambda row: pd.Series(get_pollution_components_data(row, API_KEY)), axis=1)\n",
    "\n",
    "# Joindre les composants au DataFrame principal\n",
    "merged_data = merged_data.join(components_df)\n",
    "\n",
    "# Supprimer les colonnes lat/lon car elles ne sont plus nécessaires\n",
    "merged_data.drop(columns=['Latitude', 'Longitude'], axis=1, inplace=True)\n",
    "\n",
    "# Ajouter la date courante\n",
    "merged_data['date'] = datetime.now().date()\n",
    "\n",
    "# Définir 'Location' comme index\n",
    "merged_data.set_index('Location', inplace=True)\n",
    "\n",
    "# Afficher les 5 premières lignes du DataFrame\n",
    "print(merged_data.head(5))\n"
   ]
  },
  {
   "cell_type": "markdown",
   "metadata": {},
   "source": [
    "## Chargement des Données dans un Fichier"
   ]
  },
  {
   "cell_type": "code",
   "execution_count": null,
   "metadata": {},
   "outputs": [],
   "source": [
    "# Enregistrement du rapport\n",
    "merged_data.to_csv('air_pollution_data.csv')"
   ]
  },
  {
   "cell_type": "markdown",
   "metadata": {},
   "source": [
    "## Documentation des étapes et la justification des choix\n",
    "\n",
    "# Documenter les Étapes :\n",
    "\n",
    "Lecture des Fichiers CSV :\n",
    "Importer les données sources nécessaires à l'analyse.\n",
    "\n",
    "Fusion des Données :\n",
    "Intégrer les informations démographiques et géographiques dans un seul DataFrame pour faciliter l'analyse croisée.\n",
    "\n",
    "Création du Dictionnaire de Coordonnées :\n",
    "Structurer les coordonnées géographiques pour une utilisation simple et rapide lors des appels API.\n",
    "\n",
    "Récupération des Données API :\n",
    "Enrichir les données existantes avec des informations actuelles sur la pollution de l'air, ce qui est essentiel pour l'analyse environnementale.\n",
    "\n",
    "Nettoyage des Données :\n",
    "Supprimer les colonnes inutiles et ajouter des informations de suivi (comme la date) pour garder un historique des données.\n",
    "\n",
    "# Justification des Choix :\n",
    "\n",
    "Fusion des Données :\n",
    "La fusion des données permet une meilleure cohérence et facilite l'accès à toutes les informations nécessaires à l'analyse en un seul endroit.\n",
    "\n",
    "Utilisation d'une API :\n",
    "L'intégration de données externes via une API permet d'obtenir des informations en temps réel sur la pollution de l'air, ajoutant ainsi de la pertinence et de l'actualité aux données existantes.\n",
    "\n",
    "Nettoyage et Structuration :\n",
    "Le nettoyage des données assure la clarté et la précision des résultats, tandis que la structuration du DataFrame final facilite son utilisation dans des analyses ou visualisations ultérieures."
   ]
  }
 ],
 "metadata": {
  "kernelspec": {
   "display_name": "Python 3",
   "language": "python",
   "name": "python3"
  },
  "language_info": {
   "codemirror_mode": {
    "name": "ipython",
    "version": 3
   },
   "file_extension": ".py",
   "mimetype": "text/x-python",
   "name": "python",
   "nbconvert_exporter": "python",
   "pygments_lexer": "ipython3",
   "version": "3.12.4"
  }
 },
 "nbformat": 4,
 "nbformat_minor": 2
}
